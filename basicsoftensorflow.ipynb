{
  "nbformat": 4,
  "nbformat_minor": 0,
  "metadata": {
    "colab": {
      "name": "basicsoftensorflow.ipynb",
      "version": "0.3.2",
      "provenance": [],
      "include_colab_link": true
    },
    "kernelspec": {
      "name": "python3",
      "display_name": "Python 3"
    }
  },
  "cells": [
    {
      "cell_type": "markdown",
      "metadata": {
        "id": "view-in-github",
        "colab_type": "text"
      },
      "source": [
        "[View in Colaboratory](https://colab.research.google.com/github/Sumindar/tensorflowtutorials/blob/master/basicsoftensorflow.ipynb)"
      ]
    },
    {
      "metadata": {
        "id": "AHI-8nOG7l4K",
        "colab_type": "text"
      },
      "cell_type": "markdown",
      "source": [
        "tensorflow basics"
      ]
    },
    {
      "metadata": {
        "id": "88vCAKVI7hs1",
        "colab_type": "code",
        "colab": {}
      },
      "cell_type": "code",
      "source": [
        "import tensorflow as tf\n"
      ],
      "execution_count": 0,
      "outputs": []
    },
    {
      "metadata": {
        "id": "-6q1N9ZQ7zRE",
        "colab_type": "code",
        "colab": {}
      },
      "cell_type": "code",
      "source": [
        "zero=tf.Variable(0)"
      ],
      "execution_count": 0,
      "outputs": []
    },
    {
      "metadata": {
        "id": "cL-_H3vs754I",
        "colab_type": "code",
        "colab": {}
      },
      "cell_type": "code",
      "source": [
        "one=tf.constant(1)"
      ],
      "execution_count": 0,
      "outputs": []
    },
    {
      "metadata": {
        "id": "6I19Jf1M79nj",
        "colab_type": "code",
        "colab": {}
      },
      "cell_type": "code",
      "source": [
        "new_value=tf.add(zero,one)"
      ],
      "execution_count": 0,
      "outputs": []
    },
    {
      "metadata": {
        "id": "T8nB1hg98EBp",
        "colab_type": "code",
        "colab": {}
      },
      "cell_type": "code",
      "source": [
        "update=tf.assign(zero,new_value)"
      ],
      "execution_count": 0,
      "outputs": []
    },
    {
      "metadata": {
        "id": "_zEpYryl8LEF",
        "colab_type": "code",
        "colab": {}
      },
      "cell_type": "code",
      "source": [
        "init_op=tf.global_variables_initializer()"
      ],
      "execution_count": 0,
      "outputs": []
    },
    {
      "metadata": {
        "id": "Ltc6coJO8Ti6",
        "colab_type": "code",
        "colab": {}
      },
      "cell_type": "code",
      "source": [
        "sess=tf.Session()"
      ],
      "execution_count": 0,
      "outputs": []
    },
    {
      "metadata": {
        "id": "j-yS4NIH8Wto",
        "colab_type": "code",
        "colab": {}
      },
      "cell_type": "code",
      "source": [
        "sess.run(init_op)"
      ],
      "execution_count": 0,
      "outputs": []
    },
    {
      "metadata": {
        "id": "2_ltj3dH8Z-1",
        "colab_type": "code",
        "colab": {
          "base_uri": "https://localhost:8080/",
          "height": 34
        },
        "outputId": "ef126ecc-2fe3-4507-963b-5bbd38bc43c2"
      },
      "cell_type": "code",
      "source": [
        "print(sess.run(zero))"
      ],
      "execution_count": 9,
      "outputs": [
        {
          "output_type": "stream",
          "text": [
            "0\n"
          ],
          "name": "stdout"
        }
      ]
    },
    {
      "metadata": {
        "id": "kLkOmwI-8fB7",
        "colab_type": "code",
        "colab": {
          "base_uri": "https://localhost:8080/",
          "height": 102
        },
        "outputId": "978cb98b-a58d-40e2-af00-b312ef820c52"
      },
      "cell_type": "code",
      "source": [
        "for _ in range(5):\n",
        "  sess.run(update)\n",
        "  print(sess.run(zero))"
      ],
      "execution_count": 11,
      "outputs": [
        {
          "output_type": "stream",
          "text": [
            "1\n",
            "2\n",
            "3\n",
            "4\n",
            "5\n"
          ],
          "name": "stdout"
        }
      ]
    },
    {
      "metadata": {
        "id": "4krZ5ryr9YFO",
        "colab_type": "text"
      },
      "cell_type": "markdown",
      "source": [
        "### String Operations"
      ]
    },
    {
      "metadata": {
        "id": "7oXldXtA9irY",
        "colab_type": "code",
        "colab": {}
      },
      "cell_type": "code",
      "source": [
        "hello=tf.constant(\"hello\")"
      ],
      "execution_count": 0,
      "outputs": []
    },
    {
      "metadata": {
        "id": "lBAI44GC_SlG",
        "colab_type": "code",
        "colab": {}
      },
      "cell_type": "code",
      "source": [
        "world=tf.constant(\"world\")"
      ],
      "execution_count": 0,
      "outputs": []
    },
    {
      "metadata": {
        "id": "nmnnvm_RA8ju",
        "colab_type": "code",
        "colab": {}
      },
      "cell_type": "code",
      "source": [
        "helloworld=tf.add(hello,world)"
      ],
      "execution_count": 0,
      "outputs": []
    },
    {
      "metadata": {
        "id": "F2v2UgDPBFTx",
        "colab_type": "code",
        "colab": {
          "base_uri": "https://localhost:8080/",
          "height": 34
        },
        "outputId": "a0b9ca16-9210-437e-c195-1a20e64cb67b"
      },
      "cell_type": "code",
      "source": [
        "print(sess.run(helloworld))"
      ],
      "execution_count": 19,
      "outputs": [
        {
          "output_type": "stream",
          "text": [
            "b'helloworld'\n"
          ],
          "name": "stdout"
        }
      ]
    },
    {
      "metadata": {
        "id": "0BQMRNogCSLP",
        "colab_type": "text"
      },
      "cell_type": "markdown",
      "source": [
        "# **Placeholder**"
      ]
    },
    {
      "metadata": {
        "id": "xc1Sxe-4CuwD",
        "colab_type": "code",
        "colab": {}
      },
      "cell_type": "code",
      "source": [
        "a=tf.placeholder(tf.float32)"
      ],
      "execution_count": 0,
      "outputs": []
    },
    {
      "metadata": {
        "id": "AmWJ8V25GEzn",
        "colab_type": "text"
      },
      "cell_type": "markdown",
      "source": [
        ""
      ]
    },
    {
      "metadata": {
        "id": "ianI0bvFEDgk",
        "colab_type": "code",
        "colab": {}
      },
      "cell_type": "code",
      "source": [
        "b=a*2"
      ],
      "execution_count": 0,
      "outputs": []
    },
    {
      "metadata": {
        "id": "mefEHjr7EGuX",
        "colab_type": "code",
        "colab": {
          "base_uri": "https://localhost:8080/",
          "height": 34
        },
        "outputId": "deece2cc-76be-43d9-f02f-df27b9a22101"
      },
      "cell_type": "code",
      "source": [
        "#feeding a placeholder with scalar\n",
        "#result=sess.run(b,feed_dict={a:3}) \n",
        "result=sess.run(b,{a:3})\n",
        "#both are correct codes to present the same concept\n",
        "print(result)"
      ],
      "execution_count": 23,
      "outputs": [
        {
          "output_type": "stream",
          "text": [
            "6.0\n"
          ],
          "name": "stdout"
        }
      ]
    },
    {
      "metadata": {
        "id": "Z1k2_Fi1Fsuw",
        "colab_type": "code",
        "colab": {
          "base_uri": "https://localhost:8080/",
          "height": 34
        },
        "outputId": "b55baefa-4f76-4db4-cb97-872fa6a32b2b"
      },
      "cell_type": "code",
      "source": [
        "#feeding a placeholder with vector of rank 1\n",
        "result=sess.run(b,feed_dict={a:[3,4,5]})\n",
        "print(result)\n"
      ],
      "execution_count": 24,
      "outputs": [
        {
          "output_type": "stream",
          "text": [
            "[ 6.  8. 10.]\n"
          ],
          "name": "stdout"
        }
      ]
    },
    {
      "metadata": {
        "id": "GWtKzaMpENA4",
        "colab_type": "code",
        "colab": {
          "base_uri": "https://localhost:8080/",
          "height": 170
        },
        "outputId": "cc21ffe7-4100-4034-bb4b-9145858e82b1"
      },
      "cell_type": "code",
      "source": [
        "#feeding a placeholder with multidimensional vector\n",
        "dictionary={a:[[[1,2,3],[4,5,6],[7,8,9],[10,11,12]],[[13,14,15],[16,17,18],[19,20,21],[22,23,24]]]}\n",
        "result=sess.run(b,feed_dict=dictionary)\n",
        "print(result)"
      ],
      "execution_count": 29,
      "outputs": [
        {
          "output_type": "stream",
          "text": [
            "[[[ 2.  4.  6.]\n",
            "  [ 8. 10. 12.]\n",
            "  [14. 16. 18.]\n",
            "  [20. 22. 24.]]\n",
            "\n",
            " [[26. 28. 30.]\n",
            "  [32. 34. 36.]\n",
            "  [38. 40. 42.]\n",
            "  [44. 46. 48.]]]\n"
          ],
          "name": "stdout"
        }
      ]
    },
    {
      "metadata": {
        "id": "jaC2jM4IHRc_",
        "colab_type": "code",
        "colab": {
          "base_uri": "https://localhost:8080/",
          "height": 119
        },
        "outputId": "630860d6-e3f5-4698-ad9b-e5bf86b6c601"
      },
      "cell_type": "code",
      "source": [
        "dictionary={a:[[[1,2,3],[4,5,6],[7,8,9],[10,11,12],[13,14,15],[16,17,18]]]}\n",
        "result=sess.run(b,feed_dict=dictionary)\n",
        "print(result)"
      ],
      "execution_count": 28,
      "outputs": [
        {
          "output_type": "stream",
          "text": [
            "[[[ 2.  4.  6.]\n",
            "  [ 8. 10. 12.]\n",
            "  [14. 16. 18.]\n",
            "  [20. 22. 24.]\n",
            "  [26. 28. 30.]\n",
            "  [32. 34. 36.]]]\n"
          ],
          "name": "stdout"
        }
      ]
    },
    {
      "metadata": {
        "id": "YZVFGozBInYS",
        "colab_type": "code",
        "colab": {}
      },
      "cell_type": "code",
      "source": [
        "sess.close()"
      ],
      "execution_count": 0,
      "outputs": []
    },
    {
      "metadata": {
        "id": "jesw-HffIvKB",
        "colab_type": "text"
      },
      "cell_type": "markdown",
      "source": [
        "# Common syntax to create session"
      ]
    },
    {
      "metadata": {
        "id": "0J6S4g9-Iur4",
        "colab_type": "code",
        "colab": {
          "base_uri": "https://localhost:8080/",
          "height": 34
        },
        "outputId": "f2e7e91e-cc58-403a-9f02-f9b1f4d7fafd"
      },
      "cell_type": "code",
      "source": [
        "with tf.Session() as sess:\n",
        "  result=sess.run(hello+world)\n",
        "  print(result)\n",
        "  "
      ],
      "execution_count": 31,
      "outputs": [
        {
          "output_type": "stream",
          "text": [
            "b'helloworld'\n"
          ],
          "name": "stdout"
        }
      ]
    },
    {
      "metadata": {
        "id": "smRZVkHWJEbe",
        "colab_type": "text"
      },
      "cell_type": "markdown",
      "source": [
        "# Demo to explain tf program structure"
      ]
    },
    {
      "metadata": {
        "id": "Se5ZT5EmJCzS",
        "colab_type": "code",
        "colab": {}
      },
      "cell_type": "code",
      "source": [
        "import tensorflow as tf"
      ],
      "execution_count": 0,
      "outputs": []
    },
    {
      "metadata": {
        "id": "dXVI4zhCJWBr",
        "colab_type": "code",
        "colab": {}
      },
      "cell_type": "code",
      "source": [
        "graph=tf.get_default_graph()"
      ],
      "execution_count": 0,
      "outputs": []
    },
    {
      "metadata": {
        "id": "Km6UTs1hJdUW",
        "colab_type": "code",
        "colab": {
          "base_uri": "https://localhost:8080/",
          "height": 289
        },
        "outputId": "09d85d0f-22c2-4ddf-b33d-fe91f0d32bce"
      },
      "cell_type": "code",
      "source": [
        "graph.get_operations()"
      ],
      "execution_count": 34,
      "outputs": [
        {
          "output_type": "execute_result",
          "data": {
            "text/plain": [
              "[<tf.Operation 'Variable/initial_value' type=Const>,\n",
              " <tf.Operation 'Variable' type=VariableV2>,\n",
              " <tf.Operation 'Variable/Assign' type=Assign>,\n",
              " <tf.Operation 'Variable/read' type=Identity>,\n",
              " <tf.Operation 'Const' type=Const>,\n",
              " <tf.Operation 'Add' type=Add>,\n",
              " <tf.Operation 'Assign' type=Assign>,\n",
              " <tf.Operation 'init' type=NoOp>,\n",
              " <tf.Operation 'Const_1' type=Const>,\n",
              " <tf.Operation 'Const_2' type=Const>,\n",
              " <tf.Operation 'Const_3' type=Const>,\n",
              " <tf.Operation 'Add_1' type=Add>,\n",
              " <tf.Operation 'Placeholder' type=Placeholder>,\n",
              " <tf.Operation 'mul/y' type=Const>,\n",
              " <tf.Operation 'mul' type=Mul>,\n",
              " <tf.Operation 'add_2' type=Add>]"
            ]
          },
          "metadata": {
            "tags": []
          },
          "execution_count": 34
        }
      ]
    },
    {
      "metadata": {
        "id": "jArrL2bPJoL8",
        "colab_type": "code",
        "colab": {}
      },
      "cell_type": "code",
      "source": [
        "a=tf.constant(10,name='a')"
      ],
      "execution_count": 0,
      "outputs": []
    },
    {
      "metadata": {
        "id": "D9X26k4IJ7ch",
        "colab_type": "code",
        "colab": {
          "base_uri": "https://localhost:8080/",
          "height": 306
        },
        "outputId": "a8c415e0-365f-4377-c514-e64a673c83ae"
      },
      "cell_type": "code",
      "source": [
        "operations=graph.get_operations()\n",
        "operations"
      ],
      "execution_count": 37,
      "outputs": [
        {
          "output_type": "execute_result",
          "data": {
            "text/plain": [
              "[<tf.Operation 'Variable/initial_value' type=Const>,\n",
              " <tf.Operation 'Variable' type=VariableV2>,\n",
              " <tf.Operation 'Variable/Assign' type=Assign>,\n",
              " <tf.Operation 'Variable/read' type=Identity>,\n",
              " <tf.Operation 'Const' type=Const>,\n",
              " <tf.Operation 'Add' type=Add>,\n",
              " <tf.Operation 'Assign' type=Assign>,\n",
              " <tf.Operation 'init' type=NoOp>,\n",
              " <tf.Operation 'Const_1' type=Const>,\n",
              " <tf.Operation 'Const_2' type=Const>,\n",
              " <tf.Operation 'Const_3' type=Const>,\n",
              " <tf.Operation 'Add_1' type=Add>,\n",
              " <tf.Operation 'Placeholder' type=Placeholder>,\n",
              " <tf.Operation 'mul/y' type=Const>,\n",
              " <tf.Operation 'mul' type=Mul>,\n",
              " <tf.Operation 'add_2' type=Add>,\n",
              " <tf.Operation 'a' type=Const>]"
            ]
          },
          "metadata": {
            "tags": []
          },
          "execution_count": 37
        }
      ]
    },
    {
      "metadata": {
        "id": "IDPA7QdIKHiz",
        "colab_type": "code",
        "colab": {}
      },
      "cell_type": "code",
      "source": [
        "tensor_1=tf.constant(1)"
      ],
      "execution_count": 0,
      "outputs": []
    },
    {
      "metadata": {
        "id": "BOIhBAswKPeW",
        "colab_type": "code",
        "colab": {}
      },
      "cell_type": "code",
      "source": [
        "tensor_2=tf.constant(2)"
      ],
      "execution_count": 0,
      "outputs": []
    },
    {
      "metadata": {
        "id": "t3psizIHKT9P",
        "colab_type": "code",
        "colab": {
          "base_uri": "https://localhost:8080/",
          "height": 34
        },
        "outputId": "a5d2faed-fb5b-4258-a862-f65998a4d380"
      },
      "cell_type": "code",
      "source": [
        "type(tensor_1)"
      ],
      "execution_count": 40,
      "outputs": [
        {
          "output_type": "execute_result",
          "data": {
            "text/plain": [
              "tensorflow.python.framework.ops.Tensor"
            ]
          },
          "metadata": {
            "tags": []
          },
          "execution_count": 40
        }
      ]
    },
    {
      "metadata": {
        "id": "M3lrDh98KT_k",
        "colab_type": "code",
        "colab": {
          "base_uri": "https://localhost:8080/",
          "height": 34
        },
        "outputId": "f10dbf6b-5713-4dd9-dba8-d8fee448ea51"
      },
      "cell_type": "code",
      "source": [
        "tensor_1+tensor_2"
      ],
      "execution_count": 41,
      "outputs": [
        {
          "output_type": "execute_result",
          "data": {
            "text/plain": [
              "<tf.Tensor 'add_3:0' shape=() dtype=int32>"
            ]
          },
          "metadata": {
            "tags": []
          },
          "execution_count": 41
        }
      ]
    },
    {
      "metadata": {
        "id": "e3j9jmcIKUD9",
        "colab_type": "code",
        "colab": {
          "base_uri": "https://localhost:8080/",
          "height": 34
        },
        "outputId": "a9b5d6f2-9e2a-4ebd-fef4-7f8a40cbee56"
      },
      "cell_type": "code",
      "source": [
        "sess"
      ],
      "execution_count": 42,
      "outputs": [
        {
          "output_type": "execute_result",
          "data": {
            "text/plain": [
              "<tensorflow.python.client.session.Session at 0x7f01a0247ac8>"
            ]
          },
          "metadata": {
            "tags": []
          },
          "execution_count": 42
        }
      ]
    },
    {
      "metadata": {
        "id": "uMEj8KzFKss7",
        "colab_type": "code",
        "colab": {}
      },
      "cell_type": "code",
      "source": [
        "sess.close()"
      ],
      "execution_count": 0,
      "outputs": []
    }
  ]
}
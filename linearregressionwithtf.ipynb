{
  "nbformat": 4,
  "nbformat_minor": 0,
  "metadata": {
    "colab": {
      "name": "linearregressionwithtf.ipynb",
      "version": "0.3.2",
      "provenance": [],
      "include_colab_link": true
    },
    "kernelspec": {
      "name": "python3",
      "display_name": "Python 3"
    }
  },
  "cells": [
    {
      "cell_type": "markdown",
      "metadata": {
        "id": "view-in-github",
        "colab_type": "text"
      },
      "source": [
        "[View in Colaboratory](https://colab.research.google.com/github/Sumindar/tensorflowtutorials/blob/master/linearregressionwithtf.ipynb)"
      ]
    },
    {
      "metadata": {
        "id": "G8IbjTtiyszq",
        "colab_type": "text"
      },
      "cell_type": "markdown",
      "source": [
        "# Linear regression with tensorflow\n",
        "y=mx+b\n",
        "\n",
        "It is approach to modelling the relationship between a scalar response (or dependent variable) and one or more explanatory variables (or independent variables). The case of one explanatory variable is called simple linear regression.\n",
        "Linear regression attempts to model the relationship between two variables by fitting a linear equation to observed data. One variable is considered to be an explanatory variable, and the other is considered to be a dependent variable."
      ]
    },
    {
      "metadata": {
        "id": "gV4CWJLAyW0f",
        "colab_type": "code",
        "colab": {}
      },
      "cell_type": "code",
      "source": [
        "import numpy as np\n",
        "x_data=np.linspace(0,10,10)+np.random.uniform(-1.5,1.5,10)"
      ],
      "execution_count": 0,
      "outputs": []
    },
    {
      "metadata": {
        "id": "miVu2F2ezElP",
        "colab_type": "code",
        "colab": {
          "base_uri": "https://localhost:8080/",
          "height": 51
        },
        "outputId": "7f4eb227-73ec-4da5-8155-83cea2c7a88d"
      },
      "cell_type": "code",
      "source": [
        "x_data"
      ],
      "execution_count": 24,
      "outputs": [
        {
          "output_type": "execute_result",
          "data": {
            "text/plain": [
              "array([ 0.56081034,  1.69965197,  1.20762659,  2.44058554,  3.56098809,\n",
              "        5.40295635,  6.50686892,  6.56235773,  9.19149518, 11.05499351])"
            ]
          },
          "metadata": {
            "tags": []
          },
          "execution_count": 24
        }
      ]
    },
    {
      "metadata": {
        "id": "q4RUBkJozEpl",
        "colab_type": "code",
        "colab": {
          "base_uri": "https://localhost:8080/",
          "height": 51
        },
        "outputId": "55ffd253-dfee-4109-f0ff-bcdb60d54f55"
      },
      "cell_type": "code",
      "source": [
        "y_label=np.linspace(0,10,10)+np.random.uniform(-1.5,1.5,10)\n",
        "y_label\n"
      ],
      "execution_count": 25,
      "outputs": [
        {
          "output_type": "execute_result",
          "data": {
            "text/plain": [
              "array([ 0.43991549,  0.30923693,  2.64791199,  2.53462722,  3.78870798,\n",
              "        4.08744567,  5.8147081 ,  7.88312124,  9.98463381, 10.12021466])"
            ]
          },
          "metadata": {
            "tags": []
          },
          "execution_count": 25
        }
      ]
    },
    {
      "metadata": {
        "id": "Dae1rzzmzEws",
        "colab_type": "code",
        "colab": {
          "base_uri": "https://localhost:8080/",
          "height": 364
        },
        "outputId": "03fc8ec5-bedd-4b9e-f49b-93ee25f3c2b0"
      },
      "cell_type": "code",
      "source": [
        "import matplotlib.pyplot as plt\n",
        "plt.plot(x_data,y_label,'*')"
      ],
      "execution_count": 26,
      "outputs": [
        {
          "output_type": "execute_result",
          "data": {
            "text/plain": [
              "[<matplotlib.lines.Line2D at 0x7fc8e4ddb208>]"
            ]
          },
          "metadata": {
            "tags": []
          },
          "execution_count": 26
        },
        {
          "output_type": "display_data",
          "data": {
            "image/png": "[encoded data removed]",
            "text/plain": [
              "<matplotlib.figure.Figure at 0x7fc8e762b4e0>"
            ]
          },
          "metadata": {
            "tags": []
          }
        }
      ]
    },
    {
      "metadata": {
        "id": "cXVhXYux0K7s",
        "colab_type": "text"
      },
      "cell_type": "markdown",
      "source": [
        "# Assign the variables"
      ]
    },
    {
      "metadata": {
        "id": "Ga4R8EtzzE3k",
        "colab_type": "code",
        "colab": {
          "base_uri": "https://localhost:8080/",
          "height": 34
        },
        "outputId": "e32643ae-ad2f-40c0-bcea-d2e2825e9e95"
      },
      "cell_type": "code",
      "source": [
        "np.random.rand(2)"
      ],
      "execution_count": 27,
      "outputs": [
        {
          "output_type": "execute_result",
          "data": {
            "text/plain": [
              "array([0.87513654, 0.19045468])"
            ]
          },
          "metadata": {
            "tags": []
          },
          "execution_count": 27
        }
      ]
    },
    {
      "metadata": {
        "id": "k2fmzWUx0WrD",
        "colab_type": "code",
        "colab": {}
      },
      "cell_type": "code",
      "source": [
        "import tensorflow as tf\n",
        "m=tf.Variable(0.39)\n",
        "b=tf.Variable(0.2)"
      ],
      "execution_count": 0,
      "outputs": []
    },
    {
      "metadata": {
        "id": "aGTvZI9H0ja9",
        "colab_type": "text"
      },
      "cell_type": "markdown",
      "source": [
        "# Apply the cost function"
      ]
    },
    {
      "metadata": {
        "id": "-CDBU2fb0Wvf",
        "colab_type": "code",
        "colab": {}
      },
      "cell_type": "code",
      "source": [
        "error=0\n",
        "for x,y in zip(x_data,y_label):\n",
        "  y_hat=m*x+b\n",
        "  error+=(y-y_hat)**2\n",
        "  "
      ],
      "execution_count": 0,
      "outputs": []
    },
    {
      "metadata": {
        "id": "ZK_wpypk1CXZ",
        "colab_type": "text"
      },
      "cell_type": "markdown",
      "source": [
        "# Apply the optimization function"
      ]
    },
    {
      "metadata": {
        "id": "of2p2FHv1Chl",
        "colab_type": "code",
        "colab": {}
      },
      "cell_type": "code",
      "source": [
        "optimizer=tf.train.GradientDescentOptimizer(learning_rate=0.001)\n",
        "train=optimizer.minimize(error)"
      ],
      "execution_count": 0,
      "outputs": []
    },
    {
      "metadata": {
        "id": "er0JyjRC1Z1r",
        "colab_type": "text"
      },
      "cell_type": "markdown",
      "source": [
        "# Initialize the variables"
      ]
    },
    {
      "metadata": {
        "id": "Xmhdk6D01jvR",
        "colab_type": "text"
      },
      "cell_type": "markdown",
      "source": [
        "# Create the session and run the computation"
      ]
    },
    {
      "metadata": {
        "id": "oX3hP8I71Clv",
        "colab_type": "code",
        "colab": {}
      },
      "cell_type": "code",
      "source": [
        "init=tf.global_variables_initializer()\n",
        "with tf.Session() as sess:\n",
        "  sess.run(init)\n",
        "  epochs=100\n",
        "  for i in range(epochs):\n",
        "    sess.run(train)\n",
        "   \n",
        "  final_slope,final_intercept=sess.run([m,b])"
      ],
      "execution_count": 0,
      "outputs": []
    },
    {
      "metadata": {
        "id": "A6EQdrIB2aQ9",
        "colab_type": "text"
      },
      "cell_type": "markdown",
      "source": [
        "# Print the slope and intercept\n"
      ]
    },
    {
      "metadata": {
        "id": "69USSUXh1CxK",
        "colab_type": "code",
        "colab": {
          "base_uri": "https://localhost:8080/",
          "height": 34
        },
        "outputId": "541511a6-4c22-48f6-ad31-970e46018a1b"
      },
      "cell_type": "code",
      "source": [
        "final_slope"
      ],
      "execution_count": 32,
      "outputs": [
        {
          "output_type": "execute_result",
          "data": {
            "text/plain": [
              "0.95872307"
            ]
          },
          "metadata": {
            "tags": []
          },
          "execution_count": 32
        }
      ]
    },
    {
      "metadata": {
        "id": "Gjxo0ajl1DBH",
        "colab_type": "code",
        "colab": {
          "base_uri": "https://localhost:8080/",
          "height": 34
        },
        "outputId": "289c84f5-df23-4c20-ef6b-2a160b77049d"
      },
      "cell_type": "code",
      "source": [
        "final_intercept"
      ],
      "execution_count": 33,
      "outputs": [
        {
          "output_type": "execute_result",
          "data": {
            "text/plain": [
              "0.17708974"
            ]
          },
          "metadata": {
            "tags": []
          },
          "execution_count": 33
        }
      ]
    },
    {
      "metadata": {
        "id": "ZVZT02g-2l18",
        "colab_type": "code",
        "colab": {
          "base_uri": "https://localhost:8080/",
          "height": 34
        },
        "outputId": "01fc18f7-c672-4c5c-cbd8-47a02f5d129d"
      },
      "cell_type": "code",
      "source": [
        "print(\"-------------------end-----------------\")"
      ],
      "execution_count": 34,
      "outputs": [
        {
          "output_type": "stream",
          "text": [
            "-------------------end-----------------\n"
          ],
          "name": "stdout"
        }
      ]
    }
  ]
}